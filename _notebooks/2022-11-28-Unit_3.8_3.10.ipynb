{
 "cells": [
  {
   "cell_type": "markdown",
   "metadata": {},
   "source": [
    "# Unit 3 Sections 8 and 10\n",
    "> During this lesson sections 8 and 10 will discuss lists and iteration\n",
    "\n",
    "- title: Unit 3 Sections 8 and 10\n",
    "- toc: true\n",
    "- comments: true\n",
    "- categories: [lesson plans]"
   ]
  },
  {
   "cell_type": "markdown",
   "metadata": {},
   "source": [
    "## **Section 8 - Iteration**"
   ]
  },
  {
   "cell_type": "markdown",
   "metadata": {},
   "source": [
    "**Section Objectives**: \n",
    "- Express an algorithm that uses iteration without using a programming language\n",
    "- Determine the result or side effect of iteration statements\n",
    "- Write iteration statements\n"
   ]
  },
  {
   "cell_type": "markdown",
   "metadata": {},
   "source": [
    "**Section Vocabulary**:\n"
   ]
  },
  {
   "cell_type": "markdown",
   "metadata": {},
   "source": [
    "<u>Iteration</u>: a repeating portion of an algorithm, repeats a specified number of times or until a given condition is met\n"
   ]
  },
  {
   "cell_type": "markdown",
   "metadata": {},
   "source": [
    "<u>Iteration Statements</u>: change the sequential flow of control by repeating a set of statements zero or more times, until a stopping condition is met\n"
   ]
  },
  {
   "cell_type": "markdown",
   "metadata": {},
   "source": [
    "<u>Repeat Until</u>: if the condition evaluates to true initially, the loop body is not executed at all, due to the condition being checked before the loop"
   ]
  },
  {
   "cell_type": "markdown",
   "metadata": {},
   "source": [
    "<hr><hr />"
   ]
  },
  {
   "cell_type": "markdown",
   "metadata": {},
   "source": [
    "### Unit 3 Section 8.1"
   ]
  },
  {
   "cell_type": "markdown",
   "metadata": {},
   "source": [
    "**Unit 3 Section 8.1 - Taiyo Iwazaki**"
   ]
  },
  {
   "cell_type": "markdown",
   "metadata": {},
   "source": [
    "Lesson Objective: Express an algorithm that uses iteration without using a programming language"
   ]
  },
  {
   "cell_type": "markdown",
   "metadata": {},
   "source": [
    "LESSON"
   ]
  },
  {
   "cell_type": "markdown",
   "metadata": {},
   "source": [
    "<hr />"
   ]
  },
  {
   "cell_type": "markdown",
   "metadata": {},
   "source": [
    "### Unit 3 Section 3.8.2"
   ]
  },
  {
   "cell_type": "markdown",
   "metadata": {},
   "source": [
    "**Unit 3 Section 3.8.2 - Taiyo Iwazaki**"
   ]
  },
  {
   "cell_type": "markdown",
   "metadata": {},
   "source": [
    "Lesson Objective: Determine the result or side effect of iteration statements"
   ]
  },
  {
   "cell_type": "markdown",
   "metadata": {},
   "source": [
    "LESSON"
   ]
  },
  {
   "cell_type": "markdown",
   "metadata": {},
   "source": [
    "<hr />"
   ]
  },
  {
   "cell_type": "markdown",
   "metadata": {},
   "source": [
    "### Unit 3 Section 3.8.3"
   ]
  },
  {
   "cell_type": "markdown",
   "metadata": {},
   "source": [
    "**Unit 3 Section 3.8.3 - Nikhil**"
   ]
  },
  {
   "cell_type": "markdown",
   "metadata": {},
   "source": [
    "Lesson Objective: Write iteration statements"
   ]
  },
  {
   "cell_type": "markdown",
   "metadata": {},
   "source": [
    "LESSON"
   ]
  },
  {
   "cell_type": "markdown",
   "metadata": {},
   "source": [
    "<hr/>"
   ]
  },
  {
   "cell_type": "markdown",
   "metadata": {},
   "source": [
    "## **HACKS** Unit 3 Section 8"
   ]
  },
  {
   "cell_type": "markdown",
   "metadata": {},
   "source": [
    "### **Hacks** Unit 3 Section 3.8.1 "
   ]
  },
  {
   "cell_type": "markdown",
   "metadata": {},
   "source": [
    "Put Hacks Here"
   ]
  },
  {
   "cell_type": "markdown",
   "metadata": {},
   "source": [
    "### **Hacks** Unit 3 Section 3.8.2"
   ]
  },
  {
   "cell_type": "markdown",
   "metadata": {},
   "source": [
    "Put Hacks Here"
   ]
  },
  {
   "cell_type": "markdown",
   "metadata": {},
   "source": [
    "### **Hacks** Unit 3 Section 3.8.3"
   ]
  },
  {
   "cell_type": "code",
   "execution_count": null,
   "metadata": {},
   "outputs": [],
   "source": []
  },
  {
   "cell_type": "markdown",
   "metadata": {},
   "source": [
    "Put Hacks Here"
   ]
  },
  {
   "cell_type": "markdown",
   "metadata": {},
   "source": [
    "**<hr><hr><hr />**"
   ]
  },
  {
   "cell_type": "markdown",
   "metadata": {},
   "source": [
    "## **Section 10 - Lists**"
   ]
  },
  {
   "cell_type": "markdown",
   "metadata": {},
   "source": [
    "**Section Objectives**:\n",
    "- For list operations, write expressions that use list indexing and list procedures\n",
    "- For algorithms involving elements of a list, write iteration statements to traverse a list\n",
    "- For list operations, evaluate expression that use list indexing and list procedures\n",
    "- For algorithms involving elements of a list, determine the result of an algorithm that includes list traversals"
   ]
  },
  {
   "cell_type": "markdown",
   "metadata": {},
   "source": [
    "**Section Vocabulary**:"
   ]
  },
  {
   "cell_type": "markdown",
   "metadata": {},
   "source": [
    "<u>Traversing Lists</u>: where all elements in the list are accessed, or a partial traversal, where only a portion of elements are accessed (can be a complete traversal)"
   ]
  },
  {
   "cell_type": "markdown",
   "metadata": {},
   "source": [
    "**Essential Knowledge:**"
   ]
  },
  {
   "cell_type": "markdown",
   "metadata": {},
   "source": [
    "- List procedures are implemented in accordance with the syntax rules of the programming language\n",
    "\n",
    "- Iteration Statements can be used to traverse a list\n",
    "- !!! AP EXAM provides pseudocode for loops\n",
    "- Knowledge of existing algorithms that use iteration can help in constructing new algorithms:\n"
   ]
  },
  {
   "cell_type": "markdown",
   "metadata": {},
   "source": [
    "### Unit 3 Section 10 (Luna Iwazaki)"
   ]
  },
  {
   "cell_type": "markdown",
   "metadata": {},
   "source": [
    "**AP Exam Reference Sheet**"
   ]
  },
  {
   "cell_type": "markdown",
   "metadata": {},
   "source": [
    "[APCSP Testing Reference Sheet](https://apcentral.collegeboard.org/media/pdf/ap-computer-science-principles-exam-reference-sheet.pdf)"
   ]
  },
  {
   "cell_type": "markdown",
   "metadata": {},
   "source": [
    "Since CS is taught in different languages the pseudocode represents fundamental programming concepts."
   ]
  },
  {
   "cell_type": "markdown",
   "metadata": {},
   "source": [
    "- provides basic operations on lists\n",
    "- provides pseudocode for loops\n",
    "- helps you understand code used in questions\n",
    "- students can use this reference sheet in the AP Exam"
   ]
  },
  {
   "cell_type": "markdown",
   "metadata": {},
   "source": [
    "If you looked at the reference sheet and seem to not understand some concepts here is a Khan Academy resource which can help you understand specific topics. "
   ]
  },
  {
   "cell_type": "markdown",
   "metadata": {},
   "source": [
    "[Khan Academy Resource](https://www.khanacademy.org/computing/ap-computer-science-principles/ap-csp-exam-preparation/learn-ap-csp-exam-pseudocode/a/ap-csp-exam-pseudocode-reference)"
   ]
  },
  {
   "cell_type": "markdown",
   "metadata": {},
   "source": [
    "**Practice Question**"
   ]
  },
  {
   "cell_type": "markdown",
   "metadata": {},
   "source": [
    "## fix code pls"
   ]
  },
  {
   "cell_type": "code",
   "execution_count": 42,
   "metadata": {},
   "outputs": [
    {
     "ename": "SyntaxError",
     "evalue": "invalid syntax (4291658614.py, line 2)",
     "output_type": "error",
     "traceback": [
      "\u001b[0;36m  Cell \u001b[0;32mIn[42], line 2\u001b[0;36m\u001b[0m\n\u001b[0;31m    [index = 1]\u001b[0m\n\u001b[0m           ^\u001b[0m\n\u001b[0;31mSyntaxError\u001b[0m\u001b[0;31m:\u001b[0m invalid syntax\n"
     ]
    }
   ],
   "source": [
    "words = [\"old\", \"car\", \"unusual\", \"new\", \"bold\", \"far\", \"away\"]\n",
    "[index = 1]\n",
    "\n",
    "[for(len(word) = 3)\n",
    "    [remove(words, index)]\n",
    "    if [index = index + 1]\n",
    "]\n"
   ]
  },
  {
   "cell_type": "markdown",
   "metadata": {},
   "source": [
    "### Unit 3.10 (Ethan Tran)\n",
    "\n",
    "- Traversing a list is the process of visiting each element in a list in a sequential order. It can be used to access, search for, and modify elements in the list. \n",
    "\n",
    "**Main Ways to Traverse Lists** \n",
    "\n",
    "1) Iterative: When loops are used to iterate through the list and access each single element at a time.\n",
    "2) Recursive: A traversal in which a function is called on each individual in a given list. When traversing a list, we may also want to perform an operation on each element. This could be a search operation or something more complex, such as sorting or sorting the list. \n",
    "\n",
    "**Conclusion**\n",
    "\n",
    "In conclusion, traversing a list is an important concept in that is frequently used when coding.\n",
    "Iterative and recursive traversal are two different ways to traverse a list, and they can be used to perform operations on each element in the list."
   ]
  },
  {
   "cell_type": "markdown",
   "metadata": {},
   "source": [
    "### College Board Reference Sheets\n",
    "<html>\n",
    "<p>List Operations</p>\n",
    "<img src=\"https://user-images.githubusercontent.com/109186517/204990645-34c9ea9a-8b17-42e9-b645-6116f5de7b1a.png\" >\n",
    "<img src=\"https://user-images.githubusercontent.com/109186517/204989692-e1b2c48a-fe1e-43ea-851c-68596d057ba9.png\" height=500p>\n",
    "</html>"
   ]
  },
  {
   "cell_type": "markdown",
   "metadata": {},
   "source": [
    "<hr/>"
   ]
  },
  {
   "cell_type": "markdown",
   "metadata": {},
   "source": [
    "## **HACKS** Unit 3 Section 10"
   ]
  },
  {
   "cell_type": "markdown",
   "metadata": {},
   "source": [
    "### Find the lowest value in a list"
   ]
  },
  {
   "cell_type": "markdown",
   "metadata": {},
   "source": [
    "use the code below and make a program that can find the smallest number"
   ]
  },
  {
   "cell_type": "markdown",
   "metadata": {},
   "source": [
    "- Using the code below\n",
    "- Make a variable to hold the minimum and set it to potential minimum value\n",
    "- Loop/traverse through the list\n",
    "- Check each element to see if it is less than the minimum variable\n",
    "- If the element is less than the minimum variable, update the minimum\n",
    "- After all the elements of the list have been checked, display the minimum value"
   ]
  },
  {
   "cell_type": "markdown",
   "metadata": {},
   "source": [
    "**Bonus**"
   ]
  },
  {
   "cell_type": "markdown",
   "metadata": {},
   "source": [
    "Make a code that allows the user to input any numbers they like, try to use the AP exam reference sheet pseudocode to solve this code."
   ]
  },
  {
   "cell_type": "code",
   "execution_count": 43,
   "metadata": {},
   "outputs": [],
   "source": [
    "# please use this code to start off\n",
    "# make sure the code compares all the elements in the list\n",
    "num = [15, 43, 27, 79, 25, 19, 80]\n",
    "# add on more code"
   ]
  },
  {
   "cell_type": "markdown",
   "metadata": {},
   "source": [
    "# answer + bonus please delete later"
   ]
  },
  {
   "cell_type": "code",
   "execution_count": 33,
   "metadata": {},
   "outputs": [
    {
     "name": "stdout",
     "output_type": "stream",
     "text": [
      "The list is  [20, 35, 48, 61, 73]\n",
      "The smallest element in the list is  20\n"
     ]
    }
   ],
   "source": [
    "# this code will use ALL the inputted numbers and not just the first minimum number\n",
    "num=[ int(num) for num in input(\"List:\").split(\",\")]\n",
    "print(\"The list is \",num)\n",
    "\n",
    "# assigning minimum\n",
    "min1 = num[0]\n",
    "\n",
    "for i in range(len(num)):\n",
    "\n",
    "\t# if the program numbers are run 30, 10, 41, 5 then it will calculate\n",
    "\tif num[i] < min1:\n",
    "\t\tmin1 = num[i] #It will change\n",
    "\n",
    "print(\"The smallest element in the list is \",min1)\n"
   ]
  },
  {
   "cell_type": "markdown",
   "metadata": {},
   "source": [
    "<hr/>"
   ]
  }
 ],
 "metadata": {
  "kernelspec": {
   "display_name": "Python 3.8.9 64-bit",
   "language": "python",
   "name": "python3"
  },
  "language_info": {
   "codemirror_mode": {
    "name": "ipython",
    "version": 3
   },
   "file_extension": ".py",
   "mimetype": "text/x-python",
   "name": "python",
   "nbconvert_exporter": "python",
   "pygments_lexer": "ipython3",
   "version": "3.8.9"
  },
  "orig_nbformat": 4,
  "vscode": {
   "interpreter": {
    "hash": "31f2aee4e71d21fbe5cf8b01ff0e069b9275f58929596ceb00d14d90e3e16cd6"
   }
  }
 },
 "nbformat": 4,
 "nbformat_minor": 2
}
