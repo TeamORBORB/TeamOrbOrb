{
 "cells": [
  {
   "cell_type": "markdown",
   "metadata": {},
   "source": [
    "# Unit 3 Sections 8 and 10\n",
    "> During this lesson sections 8 and 10 will discuss lists and iteration\n",
    "\n",
    "- title: Unit 3 Sections 8 and 10\n",
    "- toc: true\n",
    "- comments: true\n",
    "- categories: [lesson plans]"
   ]
  },
  {
   "cell_type": "markdown",
   "metadata": {},
   "source": [
    "## **Section 8 - Iteration**"
   ]
  },
  {
   "cell_type": "markdown",
   "metadata": {},
   "source": [
    "**Section Objectives**: \n",
    "- Express an algorithm that uses iteration without using a programming language\n",
    "- Determine the result or side effect of iteration statements\n",
    "- Write iteration statement\n"
   ]
  },
  {
   "cell_type": "markdown",
   "metadata": {},
   "source": [
    "**Section Vocabulary**:\n"
   ]
  },
  {
   "cell_type": "markdown",
   "metadata": {},
   "source": [
    "<u>Iteration</u>: a repeating portion of an algorithm, repeats a specified number of times or until a given condition is met\n"
   ]
  },
  {
   "cell_type": "markdown",
   "metadata": {},
   "source": [
    "<u>Iteration Statements</u>: change the sequential flow of control by repeating a set of statements zero or more times, until a stopping condition is met\n"
   ]
  },
  {
   "cell_type": "markdown",
   "metadata": {},
   "source": [
    "<u>Repeat Until</u>: if the condition evaluates to true initially, the loop body is not executed at all, due to the condition being checked before the loop"
   ]
  },
  {
   "cell_type": "markdown",
   "metadata": {},
   "source": [
    "<hr><hr />"
   ]
  },
  {
   "cell_type": "markdown",
   "metadata": {},
   "source": [
    "### Unit 3 Section 8.1"
   ]
  },
  {
   "cell_type": "markdown",
   "metadata": {},
   "source": [
    "**Unit 3 Section 8.1 - Taiyo Iwazaki**"
   ]
  },
  {
   "cell_type": "markdown",
   "metadata": {},
   "source": [
    "Lesson Objectives: \n",
    "1. Express an algorithm that uses iteration without using a programming language\n",
    "2. Define an iteration\n",
    "3. Iterations"
   ]
  },
  {
   "cell_type": "markdown",
   "metadata": {},
   "source": [
    "LESSON\n",
    "Vocab:\n",
    "1. Iteration: a repeating portion of an algorithm, repeats a specified number of times or until a given condition is met\n",
    "\n",
    "Before we dive deeper, we need to understand that an iteration is a part of an algorithm. And in that iteration is a set of instructions that need to be followed until a certain desired output is met.\n",
    "\n",
    "<img src=\"https://user-images.githubusercontent.com/111478625/205235149-fb3cdb9a-ca2d-46f0-9698-f8a0a1e7914c.png\" id=\"Iteration\" width=\"400\">\n",
    "\n",
    "For example: lets say I were giving instructions on how to eat pasta\n",
    "\n",
    "1. First put the pasta in a plate\n",
    "2. Then get a fork\n",
    "3. Stab Pasta and feed to self\n",
    "4. Repeat step three until all pasta is gone\n",
    "5. Wash plate and utensils.\n",
    "\n",
    "WAIT! But what if you don't have a Fork or what if you don't have a plate?\n",
    "\n",
    "This is where a stop function is useful in order to meet the certain requirement without having to"
   ]
  },
  {
   "cell_type": "code",
   "execution_count": 1,
   "metadata": {},
   "outputs": [
    {
     "name": "stdout",
     "output_type": "stream",
     "text": [
      "Pasta\n",
      "Cereal\n",
      "Bread\n",
      "Corn\n"
     ]
    }
   ],
   "source": [
    "foods = [\"Pasta\",\"Cereal\",\"Bread\",\"Corn\"]\n",
    "for x in foods: \n",
    "    print(x)\n",
    "# Can someone tell me what this function is trying to accomplish?"
   ]
  },
  {
   "cell_type": "code",
   "execution_count": 2,
   "metadata": {},
   "outputs": [
    {
     "name": "stdout",
     "output_type": "stream",
     "text": [
      "r\n",
      "e\n",
      "d\n"
     ]
    }
   ],
   "source": [
    "s = \"red\" \n",
    "for x in s:\n",
    "    print(x)"
   ]
  },
  {
   "cell_type": "markdown",
   "metadata": {},
   "source": [
    "These are just a few examples of what you can do with iteration. "
   ]
  },
  {
   "cell_type": "markdown",
   "metadata": {},
   "source": [
    "<hr />"
   ]
  },
  {
   "cell_type": "markdown",
   "metadata": {},
   "source": [
    "### Unit 3 Section 3.8.2"
   ]
  },
  {
   "cell_type": "markdown",
   "metadata": {},
   "source": [
    "**Unit 3 Section 3.8.2 - Parav Saliwani**"
   ]
  },
  {
   "cell_type": "code",
   "execution_count": null,
   "metadata": {},
   "outputs": [],
   "source": []
  },
  {
   "cell_type": "markdown",
   "metadata": {},
   "source": [
    "Lesson Objective: Determine the result or side effect of iteration statements"
   ]
  },
  {
   "cell_type": "markdown",
   "metadata": {},
   "source": [
    "LESSON"
   ]
  },
  {
   "cell_type": "markdown",
   "metadata": {},
   "source": [
    "<hr />"
   ]
  },
  {
   "cell_type": "markdown",
   "metadata": {},
   "source": [
    "### Unit 3 Section 3.8.3"
   ]
  },
  {
   "cell_type": "markdown",
   "metadata": {},
   "source": [
    "**Unit 3 Section 3.8.3 - Nikhil**"
   ]
  },
  {
   "cell_type": "markdown",
   "metadata": {},
   "source": [
    "Lesson Objective: Write iteration statements"
   ]
  },
  {
   "cell_type": "markdown",
   "metadata": {},
   "source": [
    "LESSON"
   ]
  },
  {
   "cell_type": "markdown",
   "metadata": {},
   "source": [
    "<hr/>"
   ]
  },
  {
   "cell_type": "markdown",
   "metadata": {},
   "source": [
    "## **HACKS** Unit 3 Section 8"
   ]
  },
  {
   "cell_type": "markdown",
   "metadata": {},
   "source": [
    "### **Hacks** Unit 3 Section 3.8.1 "
   ]
  },
  {
   "cell_type": "markdown",
   "metadata": {},
   "source": [
    "1. Define an Iteration\n",
    "2. Make your own example of an iteration\n",
    "3. "
   ]
  },
  {
   "cell_type": "markdown",
   "metadata": {},
   "source": [
    "### **Hacks** Unit 3 Section 3.8.2"
   ]
  },
  {
   "cell_type": "markdown",
   "metadata": {},
   "source": [
    "Put Hacks Here"
   ]
  },
  {
   "cell_type": "markdown",
   "metadata": {},
   "source": [
    "### **Hacks** Unit 3 Section 3.8.3"
   ]
  },
  {
   "cell_type": "code",
   "execution_count": null,
   "metadata": {},
   "outputs": [],
   "source": []
  },
  {
   "cell_type": "markdown",
   "metadata": {},
   "source": [
    "Put Hacks Here"
   ]
  },
  {
   "cell_type": "markdown",
   "metadata": {},
   "source": [
    "**<hr><hr><hr />**"
   ]
  },
  {
   "cell_type": "markdown",
   "metadata": {},
   "source": [
    "## **Section 10 - Lists - Luna Iwazaki, Ethan Tran**"
   ]
  },
  {
   "cell_type": "markdown",
   "metadata": {},
   "source": [
    "**Section Objectives**:\n",
    "- For list operations, write expressions that use list indexing and list procedures\n",
    "- For algorithms involving elements of a list, write iteration statements to traverse a list\n",
    "- For list operations, evaluate expression that use list indexing and list procedures\n",
    "- For algorithms involving elements of a list, determine the result of an algorithm that includes list traversals"
   ]
  },
  {
   "cell_type": "markdown",
   "metadata": {},
   "source": [
    "**Section Vocabulary**:"
   ]
  },
  {
   "cell_type": "markdown",
   "metadata": {},
   "source": [
    "<u>Traversing Lists</u>: where all elements in the list are accessed, or a partial traversal, where only a portion of elements are accessed (can be a complete traversal)"
   ]
  },
  {
   "cell_type": "markdown",
   "metadata": {},
   "source": [
    "**Essential Knowledge:**"
   ]
  },
  {
   "cell_type": "markdown",
   "metadata": {},
   "source": [
    "- List procedures are implemented in accordance with the syntax rules of the programming language\n",
    "\n",
    "- Iteration Statements can be used to traverse a list\n",
    "- !!! AP EXAM provides pseudocode for loops\n",
    "- Knowledge of existing algorithms that use iteration can help in constructing new algorithms:\n"
   ]
  },
  {
   "cell_type": "markdown",
   "metadata": {},
   "source": [
    "### Unit 3 Section 10"
   ]
  },
  {
   "cell_type": "markdown",
   "metadata": {},
   "source": [
    "**Section 10 - Lists**"
   ]
  },
  {
   "cell_type": "markdown",
   "metadata": {},
   "source": [
    "Since CS is taught in different languages the pseudocode represents fundamental programming concepts."
   ]
  },
  {
   "cell_type": "markdown",
   "metadata": {},
   "source": [
    "**AP Exam Reference Sheet**"
   ]
  },
  {
   "cell_type": "markdown",
   "metadata": {},
   "source": [
    "- provides basic operations on lists\n",
    "- provides pseudocode for loops\n",
    "- helps you understand code used in questions\n",
    "- students can use this reference sheet in the AP Exam"
   ]
  },
  {
   "cell_type": "markdown",
   "metadata": {},
   "source": [
    "[APCSP Testing Reference Sheet](https://apcentral.collegeboard.org/media/pdf/ap-computer-science-principles-exam-reference-sheet.pdf)"
   ]
  },
  {
   "cell_type": "markdown",
   "metadata": {},
   "source": [
    "If you looked at the reference sheet and seem to not understand some concepts here is a Khan Academy resource which can help you understand specific topics."
   ]
  },
  {
   "cell_type": "markdown",
   "metadata": {},
   "source": [
    "[Khan Academy Resource](https://www.khanacademy.org/computing/ap-computer-science-principles/ap-csp-exam-preparation/learn-ap-csp-exam-pseudocode/a/ap-csp-exam-pseudocode-reference)"
   ]
  },
  {
   "cell_type": "markdown",
   "metadata": {},
   "source": [
    "**APCSP Create Task**"
   ]
  },
  {
   "cell_type": "markdown",
   "metadata": {},
   "source": [
    "## Unit 3.10 (Ethan Tran)\n",
    "\n",
    "- Traversing a list is the process of visiting each element in a list in a sequential order. It can be used to access, search for, and modify elements in the list. \n",
    "\n",
    "**Traversing Lists** \n",
    "\n",
    "1) Complete Traversal: All elements in a list are assessed \n",
    "\n",
    "2) Partial Traversal: Only a given portion of elements are assessed\n",
    "\n",
    "3) Iterative Traversal: When loops are used to iterate through a list and to access each single element at a time.\n",
    "\n",
    "**Quick Lists Reference Sheet**\n",
    "- A given element of a list can be evaluated using index, [ ]\n",
    "\n",
    "1) Ex. listName[i]\n",
    "2) Ex. listName[3]\n",
    "\n",
    "- insert( ) allows a value to be inserted into a list at index i\n",
    "- append( ) allows a value to be added at the end of a list \n",
    "- remove( ) allows an element at index i to be deleted from a list\n",
    "- length( ) returns the number of elements currently in a specific list\n",
    "\n",
    "<html>\n",
    "<img src=\"https://user-images.githubusercontent.com/109186517/205287166-d4eb1035-e2b7-4e74-9305-9abb77e13a2f.png\" height=350px>\n",
    "</html>\n",
    "\n",
    "<p>A loop such as the example above allows a user to access each item within the list</p>\n",
    "\n"
   ]
  },
  {
   "cell_type": "markdown",
   "metadata": {},
   "source": [
    "**College Board Example Question**\n",
    "<html>\n",
    "<img src=\"https://user-images.githubusercontent.com/109186517/205283730-08735704-c1c9-4745-a29c-0daba1f56feb.png\" height=500px>\n",
    "<div>\n",
    "<img src=\"https://user-images.githubusercontent.com/109186517/205283903-8518fd3b-fc65-46ba-8731-31a93b058092.png\" height=500px>\n",
    "</html>"
   ]
  },
  {
   "cell_type": "markdown",
   "metadata": {},
   "source": [
    "<hr/>"
   ]
  },
  {
   "cell_type": "markdown",
   "metadata": {},
   "source": [
    "## **HACKS** Unit 3 Section 10"
   ]
  },
  {
   "cell_type": "markdown",
   "metadata": {},
   "source": [
    "### Find the lowest value in a list (Luna Iwazaki)"
   ]
  },
  {
   "cell_type": "markdown",
   "metadata": {},
   "source": [
    "- Use the list made bellow\n",
    "- Make a variable to hold the minimum and set it to potential minimum value\n",
    "- Loop\n",
    "- Check each element to see if it is less than the minimum variable\n",
    "- If the element is less than the minimum variable, update the minimum\n",
    "- After all the elements of the list have been checked, display the minimum value\n"
   ]
  },
  {
   "cell_type": "code",
   "execution_count": null,
   "metadata": {},
   "outputs": [],
   "source": [
    "nums[\"10\", \"15\", \"20\", \"25\", \"30\", \"35\"]\n",
    "min"
   ]
  },
  {
   "cell_type": "markdown",
   "metadata": {},
   "source": [
    "### Lists Quiz (Ethan Tran) \n",
    "**Take a screenshot of your score on put it on your review ticket!**"
   ]
  },
  {
   "cell_type": "code",
   "execution_count": null,
   "metadata": {},
   "outputs": [],
   "source": [
    "import getpass, sys\n",
    "import random\n",
    "\n",
    "def ask_question (question, answer):\n",
    "\n",
    "    print(question)\n",
    "    ans = input(question)\n",
    "    print(ans)\n",
    "   \n",
    "    if ans == answer:\n",
    "        print(\"Correct!\")\n",
    "        return 1\n",
    "\n",
    "    else:\n",
    "        print(\"Wrong\")\n",
    "        return 0\n",
    "\n",
    "question_list = [\"What allows a value to be inserted into a list at index i?\" , \"What allows an element at index i to be deleted from a list?\" , \"What returns the number of elements currently in a specific list?\" , \"What allows a value to be added at the end of a list?\"]\n",
    "answer_list = [\"index()\", \"remove()\", \"length()\" , \"append()\"]\n",
    "\n",
    "# Set points to 0 at the start of the quiz\n",
    "points = 0\n",
    "\n",
    "# If the length of the quiz is greater than 0, then random questions will be chosen from the \"question_list\" set\n",
    "while len(question_list) > 0:\n",
    "    index = random.randint(0, len(question_list) - 1)\n",
    "    \n",
    "# The points system where a point is rewarded for each correct answer    \n",
    "    points = points + ask_question(question_list[index], answer_list[index])\n",
    "    \n",
    "# If a question or answer has already been used, then it shall be deleted    \n",
    "    del question_list[index]\n",
    "    del answer_list[index]\n",
    "\n",
    "# Calculating score using the points system and dividing it by the total number of questions (6)\n",
    "score = (points / 4)\n",
    "\n",
    "# Calculating the percentage of correct answers by multiplying the score by 100\n",
    "percent = (score * 100)\n",
    "\n",
    "# Printing the percentage, and formatting the percentage in a way where two decimals can be shown (through \"{:.2f}\")\n",
    "print(\"{:.2f}\".format(percent) + \"%\")\n",
    "\n",
    "# Adding final remarks based upon the users given scores\n",
    "if points >= 5:\n",
    "         print(\"Your total score is: \", points, \"out of 4. Amazing job!\")\n",
    "\n",
    "elif points == 4:\n",
    "         print(\"Your total score is: \", points, \"out of 4. Not too bad, keep on studying! \" )\n",
    "\n",
    "else:\n",
    "         print(\"Your total score is: \", points, \"out of 4. Its alright, better luck next time!\")\n"
   ]
  },
  {
   "cell_type": "markdown",
   "metadata": {},
   "source": [
    "### "
   ]
  },
  {
   "cell_type": "markdown",
   "metadata": {},
   "source": [
    "<hr/>"
   ]
  },
  {
   "cell_type": "markdown",
   "metadata": {},
   "source": [
    "### College Board Reference Sheets\n",
    "<html>\n",
    "<p>List Operations</p>\n",
    "<img src=\"https://user-images.githubusercontent.com/109186517/204990645-34c9ea9a-8b17-42e9-b645-6116f5de7b1a.png\" >\n",
    "<img src=\"https://user-images.githubusercontent.com/109186517/204989692-e1b2c48a-fe1e-43ea-851c-68596d057ba9.png\" height=500p>\n",
    "</html>"
   ]
  }
 ],
 "metadata": {
  "kernelspec": {
   "display_name": "Python 3.10.6 64-bit",
   "language": "python",
   "name": "python3"
  },
  "language_info": {
   "codemirror_mode": {
    "name": "ipython",
    "version": 3
   },
   "file_extension": ".py",
   "mimetype": "text/x-python",
   "name": "python",
   "nbconvert_exporter": "python",
   "pygments_lexer": "ipython3",
   "version": "3.10.6"
  },
  "orig_nbformat": 4,
  "vscode": {
   "interpreter": {
    "hash": "82faa6d27c9a927522682e95cb30c684238aba2a31347a70411ee016fed8cfe5"
   }
  }
 },
 "nbformat": 4,
 "nbformat_minor": 2
}
