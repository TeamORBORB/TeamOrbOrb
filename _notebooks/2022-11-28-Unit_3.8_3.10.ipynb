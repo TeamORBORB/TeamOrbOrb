{
 "cells": [
  {
   "cell_type": "markdown",
   "metadata": {},
   "source": [
    "# Unit 3 Sections 8 and 10\n",
    "> During this lesson sections 8 and 10 will discuss lists and iteration\n",
    "\n",
    "- title: Unit 3 Sections 8 and 10\n",
    "- toc: true\n",
    "- comments: true\n",
    "- categories: [lesson plans]"
   ]
  },
  {
   "cell_type": "markdown",
   "metadata": {},
   "source": [
    "## **Section 8 - Iteration**"
   ]
  },
  {
   "cell_type": "markdown",
   "metadata": {},
   "source": [
    "**Section Objectives**: \n",
    "- Express an algorithm that uses iteration without using a programming language\n",
    "- Determine the result or side effect of iteration statements\n",
    "- Write iteration statements\n"
   ]
  },
  {
   "cell_type": "markdown",
   "metadata": {},
   "source": [
    "**Section Vocabulary**:\n"
   ]
  },
  {
   "cell_type": "markdown",
   "metadata": {},
   "source": [
    "<u>Iteration</u>: a repeating portion of an algorithm, repeats a specified number of times or until a given condition is met\n"
   ]
  },
  {
   "cell_type": "markdown",
   "metadata": {},
   "source": [
    "<u>Iteration Statements</u>: change the sequential flow of control by repeating a set of statements zero or more times, until a stopping condition is met\n"
   ]
  },
  {
   "cell_type": "markdown",
   "metadata": {},
   "source": [
    "<u>Repeat Until</u>: if the condition evaluates to true initially, the loop body is not executed at all, due to the condition being checked before the loop"
   ]
  },
  {
   "cell_type": "markdown",
   "metadata": {},
   "source": [
    "<hr><hr />"
   ]
  },
  {
   "cell_type": "markdown",
   "metadata": {},
   "source": [
    "### Unit 3 Section 8.1"
   ]
  },
  {
   "cell_type": "markdown",
   "metadata": {},
   "source": [
    "**Unit 3 Section 8.1 - Taiyo Iwazaki**"
   ]
  },
  {
   "cell_type": "markdown",
   "metadata": {},
   "source": [
    "Lesson Objectives: \n",
    "1. Express an algorithm that uses iteration without using a programming language\n",
    "2. Define an iteration"
   ]
  },
  {
   "cell_type": "markdown",
   "metadata": {},
   "source": [
    "LESSON\n",
    "Vocab:\n",
    "1. Iteration: a repeating portion of an algorithm, repeats a specified number of times or until a given condition is met\n",
    "\n",
    "Before we dive deeper, we need to understand that an iteration is a part of an algorithm. And in that iteration is a set of instructions that need to be followed until a certain desired output is met.\n",
    "\n",
    "For example: lets say I were giving instructions on how to eat pasta\n",
    "\n",
    "1. First put the pasta in a plate\n",
    "2. Then get a fork\n",
    "3. Stab Pasta and feed to self\n",
    "4. Repeat step three until all pasta is gone\n",
    "5. Wash plate and utensils.\n",
    "\n",
    "WAIT! But what if you don't have a Fork or what if you don't have a plate?\n"
   ]
  },
  {
   "cell_type": "code",
   "execution_count": 1,
   "metadata": {},
   "outputs": [
    {
     "name": "stdout",
     "output_type": "stream",
     "text": [
      "Pasta\n",
      "Cereal\n",
      "Bread\n",
      "Corn\n"
     ]
    }
   ],
   "source": [
    "foods = [\"Pasta\",\"Cereal\",\"Bread\",\"Corn\"]\n",
    "for x in foods: \n",
    "    print(x)\n",
    "# Can someone tell me what this function is trying to accomplish?"
   ]
  },
  {
   "cell_type": "code",
   "execution_count": 2,
   "metadata": {},
   "outputs": [
    {
     "name": "stdout",
     "output_type": "stream",
     "text": [
      "r\n",
      "e\n",
      "d\n"
     ]
    }
   ],
   "source": [
    "s = \"red\" \n",
    "for x in s:\n",
    "    print(x)"
   ]
  },
  {
   "cell_type": "markdown",
   "metadata": {},
   "source": [
    "These are just a few examples of what you can do with iteration. "
   ]
  },
  {
   "cell_type": "markdown",
   "metadata": {},
   "source": [
    "<hr />"
   ]
  },
  {
   "cell_type": "markdown",
   "metadata": {},
   "source": [
    "### Unit 3 Section 3.8.2"
   ]
  },
  {
   "cell_type": "markdown",
   "metadata": {},
   "source": [
    "**Unit 3 Section 3.8.2 - Parav Saliwani**"
   ]
  },
  {
   "cell_type": "code",
   "execution_count": null,
   "metadata": {},
   "outputs": [],
   "source": []
  },
  {
   "cell_type": "markdown",
   "metadata": {},
   "source": [
    "Lesson Objective: Determine the result or side effect of iteration statements"
   ]
  },
  {
   "cell_type": "markdown",
   "metadata": {},
   "source": [
    "LESSON"
   ]
  },
  {
   "cell_type": "markdown",
   "metadata": {},
   "source": [
    "<hr />"
   ]
  },
  {
   "cell_type": "markdown",
   "metadata": {},
   "source": [
    "### Unit 3 Section 3.8.3"
   ]
  },
  {
   "cell_type": "markdown",
   "metadata": {},
   "source": [
    "**Unit 3 Section 3.8.3 - Nikhil**"
   ]
  },
  {
   "cell_type": "markdown",
   "metadata": {},
   "source": [
    "Lesson Objective: Write iteration statements"
   ]
  },
  {
   "cell_type": "markdown",
   "metadata": {},
   "source": [
    "LESSON"
   ]
  },
  {
   "cell_type": "markdown",
   "metadata": {},
   "source": [
    "<hr/>"
   ]
  },
  {
   "cell_type": "markdown",
   "metadata": {},
   "source": [
    "## **HACKS** Unit 3 Section 8"
   ]
  },
  {
   "cell_type": "markdown",
   "metadata": {},
   "source": [
    "### **Hacks** Unit 3 Section 3.8.1 "
   ]
  },
  {
   "cell_type": "markdown",
   "metadata": {},
   "source": [
    "Put Hacks Here"
   ]
  },
  {
   "cell_type": "markdown",
   "metadata": {},
   "source": [
    "### **Hacks** Unit 3 Section 3.8.2"
   ]
  },
  {
   "cell_type": "markdown",
   "metadata": {},
   "source": [
    "Put Hacks Here"
   ]
  },
  {
   "cell_type": "markdown",
   "metadata": {},
   "source": [
    "### **Hacks** Unit 3 Section 3.8.3"
   ]
  },
  {
   "cell_type": "code",
   "execution_count": null,
   "metadata": {},
   "outputs": [],
   "source": []
  },
  {
   "cell_type": "markdown",
   "metadata": {},
   "source": [
    "Put Hacks Here"
   ]
  },
  {
   "cell_type": "markdown",
   "metadata": {},
   "source": [
    "**<hr><hr><hr />**"
   ]
  },
  {
   "cell_type": "markdown",
   "metadata": {},
   "source": [
    "## **Section 10 - Lists - Luna Iwazaki, Ethan Tran**"
   ]
  },
  {
   "cell_type": "markdown",
   "metadata": {},
   "source": [
    "**Section Objectives**:\n",
    "- For list operations, write expressions that use list indexing and list procedures\n",
    "- For algorithms involving elements of a list, write iteration statements to traverse a list\n",
    "- For list operations, evaluate expression that use list indexing and list procedures\n",
    "- For algorithms involving elements of a list, determine the result of an algorithm that includes list traversals"
   ]
  },
  {
   "cell_type": "markdown",
   "metadata": {},
   "source": [
    "**Section Vocabulary**:"
   ]
  },
  {
   "cell_type": "markdown",
   "metadata": {},
   "source": [
    "<u>Traversing Lists</u>: where all elements in the list are accessed, or a partial traversal, where only a portion of elements are accessed (can be a complete traversal)"
   ]
  },
  {
   "cell_type": "markdown",
   "metadata": {},
   "source": [
    "**Essential Knowledge:**"
   ]
  },
  {
   "cell_type": "markdown",
   "metadata": {},
   "source": [
    "- List procedures are implemented in accordance with the syntax rules of the programming language\n",
    "\n",
    "- Iteration Statements can be used to traverse a list\n",
    "- !!! AP EXAM provides pseudocode for loops\n",
    "- Knowledge of existing algorithms that use iteration can help in constructing new algorithms:\n"
   ]
  },
  {
   "cell_type": "markdown",
   "metadata": {},
   "source": [
    "### Unit 3 Section 10 (Luna Iwazaki)"
   ]
  },
  {
   "cell_type": "markdown",
   "metadata": {},
   "source": [
    "**Unit 3 Section 10 - Luna Iwazaki**"
   ]
  },
  {
   "cell_type": "markdown",
   "metadata": {},
   "source": [
<<<<<<< HEAD
    "### Unit 3.10 (Ethan Tran)\n",
    "\n",
    "- Traversing a list is the process of visiting each element in a list in a sequential order. It can be used to access, search for, and modify elements in the list. \n",
=======
    "## Unit 3.10 (Ethan Tran)\n",
    "### Traversing Lists\n",
    "- Data structures contain elements, which themselves contain data\n",
    "- Traversing a list is the process of visiting each element in a list in a sequential order. \n",
    "- Can be used to access, search for, and modify elements in the list. \n",
>>>>>>> 4a6af10527e2449b019455294e371e7e81f46964
    "\n",
    "**Main Ways to Traverse Lists** \n",
    "\n",
    "1) Iterative: When loops are used to iterate through the list and access each single element at a time.\n",
    "2) Recursive: A traversal in which a function is called on each individual in a given list. When traversing a list, we may also want to perform an operation on each element. This could be a search operation or something more complex, such as sorting or sorting the list. \n",
    "\n",
    "**Conclusion**\n",
    "\n",
    "In conclusion, traversing a list is an important concept in that is frequently used when coding.\n",
    "Iterative and recursive traversal are two different ways to traverse a list, and they can be used to perform operations on each element in the list."
   ]
  },
  {
   "cell_type": "markdown",
   "metadata": {},
   "source": [
    "### College Board Reference Sheets\n",
    "<html>\n",
    "<p>List Operations</p>\n",
    "<img src=\"https://user-images.githubusercontent.com/109186517/204990645-34c9ea9a-8b17-42e9-b645-6116f5de7b1a.png\" width=750px>\n",
    "<img src=\"https://user-images.githubusercontent.com/109186517/204989692-e1b2c48a-fe1e-43ea-851c-68596d057ba9.png\" width=750px>\n",
    "</html>"
   ]
  },
  {
   "cell_type": "markdown",
   "metadata": {},
   "source": [
    "<hr/>"
   ]
  },
  {
   "cell_type": "markdown",
   "metadata": {},
   "source": [
    "## **HACKS** Unit 3 Section 10"
   ]
  },
  {
   "cell_type": "markdown",
   "metadata": {},
   "source": [
    "### Find the lowest value in a list"
   ]
  },
  {
   "cell_type": "markdown",
   "metadata": {},
   "source": [
    "- Use the list made bellow\n",
    "- Make a variable to hold the minimum and set it to potential minimum value\n",
    "- Loop\n",
    "- Check each element to see if it is less than the minimum variable\n",
    "- If the element is less than the minimum variable, update the minimum\n",
    "- After all the elements of the list have been checked, display the minimum value\n"
   ]
  },
  {
   "cell_type": "code",
   "execution_count": null,
   "metadata": {},
   "outputs": [],
   "source": [
    "nums[\"10\", \"15\", \"20\", \"25\", \"30\", \"35\"]\n",
    "min"
   ]
  }
 ],
 "metadata": {
  "kernelspec": {
   "display_name": "Python 3.8.9 64-bit",
   "language": "python",
   "name": "python3"
  },
  "language_info": {
   "codemirror_mode": {
    "name": "ipython",
    "version": 3
   },
   "file_extension": ".py",
   "mimetype": "text/x-python",
   "name": "python",
<<<<<<< HEAD
   "nbconvert_exporter": "python",
   "pygments_lexer": "ipython3",
   "version": "3.10.6"
=======
   "version": "3.8.9"
>>>>>>> refs/remotes/origin/master
  },
  "orig_nbformat": 4,
  "vscode": {
   "interpreter": {
<<<<<<< HEAD
    "hash": "b0fa6594d8f4cbf19f97940f81e996739fb7646882a419484c72d19e05852a7e"
=======
    "hash": "31f2aee4e71d21fbe5cf8b01ff0e069b9275f58929596ceb00d14d90e3e16cd6"
>>>>>>> refs/remotes/origin/master
   }
  }
 },
 "nbformat": 4,
 "nbformat_minor": 2
}
