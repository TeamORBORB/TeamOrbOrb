{
 "cells": [
  {
   "cell_type": "markdown",
   "metadata": {},
   "source": [
    "<html>\n",
    "<img src=\"https://user-images.githubusercontent.com/109186517/206293744-8274b665-8b22-470b-a23c-84241f1aa89f.png\" id\"grade_sheet\">\n",
    "</html>"
   ]
  }
 ],
 "metadata": {
  "language_info": {
   "name": "python"
  },
  "orig_nbformat": 4
 },
 "nbformat": 4,
 "nbformat_minor": 2
}
