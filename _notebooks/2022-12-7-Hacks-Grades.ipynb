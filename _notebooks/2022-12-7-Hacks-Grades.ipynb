{
 "cells": [
  {
   "attachments": {},
   "cell_type": "markdown",
   "metadata": {},
   "source": [
    "# Unit 3 Sections 8 and 10 Graded Hacks\n",
    "- title: Unit 3 Sections 8 and 10 Graded Hacks\n",
    "- toc: true\n",
    "- comments: true\n",
    "- categories: [grades, hacks]"
   ]
  },
  {
   "cell_type": "markdown",
   "metadata": {},
   "source": [
    "<html>\n",
    "<img src=\"https://user-images.githubusercontent.com/109186517/206293744-8274b665-8b22-470b-a23c-84241f1aa89f.png\">\n",
    "</html>\n",
    "\n",
    "<html>\n",
    "<img src=\"https://user-images.githubusercontent.com/111478625/206311992-29422bb9-1b88-415b-b144-76fb88bf2ac0.png\">\n",
    "</html>"
   ]
  }
 ],
 "metadata": {
  "kernelspec": {
   "display_name": "Python 3.10.6 64-bit",
   "language": "python",
   "name": "python3"
  },
  "language_info": {
   "name": "python",
   "version": "3.10.6"
  },
  "orig_nbformat": 4,
  "vscode": {
   "interpreter": {
    "hash": "82faa6d27c9a927522682e95cb30c684238aba2a31347a70411ee016fed8cfe5"
   }
  }
 },
 "nbformat": 4,
 "nbformat_minor": 2
}
